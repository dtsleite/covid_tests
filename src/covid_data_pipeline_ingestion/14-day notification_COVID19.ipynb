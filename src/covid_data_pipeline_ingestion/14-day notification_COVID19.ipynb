{
 "cells": [
  {
   "cell_type": "code",
   "execution_count": 316,
   "id": "f21f5235",
   "metadata": {},
   "outputs": [],
   "source": [
    "import pandas as pd\n",
    "import numpy as np\n",
    "import matplotlib.pyplot as plt\n",
    "import seaborn as sns\n",
    "from isoweek import Week"
   ]
  },
  {
   "cell_type": "code",
   "execution_count": 317,
   "id": "f5a210a3",
   "metadata": {},
   "outputs": [],
   "source": [
    "# import data from CSV File\n",
    "df_14_day_notification = pd.read_csv('./data/14-day notification_COVID19_data.csv')"
   ]
  },
  {
   "cell_type": "code",
   "execution_count": 318,
   "id": "1ff7c8c2",
   "metadata": {},
   "outputs": [],
   "source": [
    "def conter_yw_to_date(year_week):\n",
    "    return Week(2020, 10).monday()"
   ]
  },
  {
   "cell_type": "code",
   "execution_count": 319,
   "id": "3002239d",
   "metadata": {},
   "outputs": [
    {
     "data": {
      "text/html": [
       "<div>\n",
       "<style scoped>\n",
       "    .dataframe tbody tr th:only-of-type {\n",
       "        vertical-align: middle;\n",
       "    }\n",
       "\n",
       "    .dataframe tbody tr th {\n",
       "        vertical-align: top;\n",
       "    }\n",
       "\n",
       "    .dataframe thead th {\n",
       "        text-align: right;\n",
       "    }\n",
       "</style>\n",
       "<table border=\"1\" class=\"dataframe\">\n",
       "  <thead>\n",
       "    <tr style=\"text-align: right;\">\n",
       "      <th></th>\n",
       "      <th>country</th>\n",
       "      <th>country_code</th>\n",
       "      <th>continent</th>\n",
       "      <th>population</th>\n",
       "      <th>indicator</th>\n",
       "      <th>weekly_count</th>\n",
       "      <th>year_week</th>\n",
       "      <th>rate_14_day</th>\n",
       "      <th>cumulative_count</th>\n",
       "      <th>source</th>\n",
       "    </tr>\n",
       "  </thead>\n",
       "  <tbody>\n",
       "    <tr>\n",
       "      <th>40797</th>\n",
       "      <td>Zimbabwe</td>\n",
       "      <td>ZWE</td>\n",
       "      <td>Africa</td>\n",
       "      <td>14862927</td>\n",
       "      <td>deaths</td>\n",
       "      <td>9</td>\n",
       "      <td>2021-43</td>\n",
       "      <td>1.345630</td>\n",
       "      <td>4678</td>\n",
       "      <td>Epidemic intelligence national data</td>\n",
       "    </tr>\n",
       "    <tr>\n",
       "      <th>40798</th>\n",
       "      <td>Zimbabwe</td>\n",
       "      <td>ZWE</td>\n",
       "      <td>Africa</td>\n",
       "      <td>14862927</td>\n",
       "      <td>deaths</td>\n",
       "      <td>7</td>\n",
       "      <td>2021-44</td>\n",
       "      <td>1.076504</td>\n",
       "      <td>4685</td>\n",
       "      <td>Epidemic intelligence national data</td>\n",
       "    </tr>\n",
       "    <tr>\n",
       "      <th>40799</th>\n",
       "      <td>Zimbabwe</td>\n",
       "      <td>ZWE</td>\n",
       "      <td>Africa</td>\n",
       "      <td>14862927</td>\n",
       "      <td>deaths</td>\n",
       "      <td>12</td>\n",
       "      <td>2021-45</td>\n",
       "      <td>1.278348</td>\n",
       "      <td>4697</td>\n",
       "      <td>Epidemic intelligence national data</td>\n",
       "    </tr>\n",
       "    <tr>\n",
       "      <th>40800</th>\n",
       "      <td>Zimbabwe</td>\n",
       "      <td>ZWE</td>\n",
       "      <td>Africa</td>\n",
       "      <td>14862927</td>\n",
       "      <td>deaths</td>\n",
       "      <td>2</td>\n",
       "      <td>2021-46</td>\n",
       "      <td>0.941941</td>\n",
       "      <td>4699</td>\n",
       "      <td>Epidemic intelligence national data</td>\n",
       "    </tr>\n",
       "    <tr>\n",
       "      <th>40801</th>\n",
       "      <td>Zimbabwe</td>\n",
       "      <td>ZWE</td>\n",
       "      <td>Africa</td>\n",
       "      <td>14862927</td>\n",
       "      <td>deaths</td>\n",
       "      <td>6</td>\n",
       "      <td>2021-47</td>\n",
       "      <td>0.538252</td>\n",
       "      <td>4705</td>\n",
       "      <td>Epidemic intelligence national data</td>\n",
       "    </tr>\n",
       "  </tbody>\n",
       "</table>\n",
       "</div>"
      ],
      "text/plain": [
       "        country country_code continent  population indicator  weekly_count  \\\n",
       "40797  Zimbabwe          ZWE    Africa    14862927    deaths             9   \n",
       "40798  Zimbabwe          ZWE    Africa    14862927    deaths             7   \n",
       "40799  Zimbabwe          ZWE    Africa    14862927    deaths            12   \n",
       "40800  Zimbabwe          ZWE    Africa    14862927    deaths             2   \n",
       "40801  Zimbabwe          ZWE    Africa    14862927    deaths             6   \n",
       "\n",
       "      year_week  rate_14_day  cumulative_count  \\\n",
       "40797   2021-43     1.345630              4678   \n",
       "40798   2021-44     1.076504              4685   \n",
       "40799   2021-45     1.278348              4697   \n",
       "40800   2021-46     0.941941              4699   \n",
       "40801   2021-47     0.538252              4705   \n",
       "\n",
       "                                    source  \n",
       "40797  Epidemic intelligence national data  \n",
       "40798  Epidemic intelligence national data  \n",
       "40799  Epidemic intelligence national data  \n",
       "40800  Epidemic intelligence national data  \n",
       "40801  Epidemic intelligence national data  "
      ]
     },
     "execution_count": 319,
     "metadata": {},
     "output_type": "execute_result"
    }
   ],
   "source": [
    "df_14_day_notification.tail()"
   ]
  },
  {
   "cell_type": "code",
   "execution_count": 320,
   "id": "f19e3e11",
   "metadata": {
    "scrolled": true
   },
   "outputs": [
    {
     "name": "stdout",
     "output_type": "stream",
     "text": [
      "<class 'pandas.core.frame.DataFrame'>\n",
      "RangeIndex: 40802 entries, 0 to 40801\n",
      "Data columns (total 10 columns):\n",
      " #   Column            Non-Null Count  Dtype  \n",
      "---  ------            --------------  -----  \n",
      " 0   country           40802 non-null  object \n",
      " 1   country_code      39602 non-null  object \n",
      " 2   continent         40802 non-null  object \n",
      " 3   population        40802 non-null  int64  \n",
      " 4   indicator         40802 non-null  object \n",
      " 5   weekly_count      40802 non-null  int64  \n",
      " 6   year_week         40802 non-null  object \n",
      " 7   rate_14_day       40354 non-null  float64\n",
      " 8   cumulative_count  40802 non-null  int64  \n",
      " 9   source            40802 non-null  object \n",
      "dtypes: float64(1), int64(3), object(6)\n",
      "memory usage: 3.1+ MB\n"
     ]
    }
   ],
   "source": [
    "# get some usefull information about data\n",
    "df_14_day_notification.info()"
   ]
  },
  {
   "cell_type": "code",
   "execution_count": 321,
   "id": "a0a21c72",
   "metadata": {},
   "outputs": [
    {
     "data": {
      "text/plain": [
       "(40802, 10)"
      ]
     },
     "execution_count": 321,
     "metadata": {},
     "output_type": "execute_result"
    }
   ],
   "source": [
    "df_14_day_notification.shape"
   ]
  },
  {
   "cell_type": "code",
   "execution_count": 322,
   "id": "64a0c4dd",
   "metadata": {},
   "outputs": [
    {
     "data": {
      "text/plain": [
       "country                0\n",
       "country_code        1200\n",
       "continent              0\n",
       "population             0\n",
       "indicator              0\n",
       "weekly_count           0\n",
       "year_week              0\n",
       "rate_14_day          448\n",
       "cumulative_count       0\n",
       "source                 0\n",
       "dtype: int64"
      ]
     },
     "execution_count": 322,
     "metadata": {},
     "output_type": "execute_result"
    }
   ],
   "source": [
    "# get null data\n",
    "df_14_day_notification.isnull().sum()"
   ]
  },
  {
   "cell_type": "code",
   "execution_count": 323,
   "id": "b3769642",
   "metadata": {},
   "outputs": [],
   "source": [
    "# clear null data\n",
    "df_14_day_notification.dropna(inplace=True)"
   ]
  },
  {
   "cell_type": "code",
   "execution_count": 324,
   "id": "c1b4c907",
   "metadata": {},
   "outputs": [
    {
     "data": {
      "text/plain": [
       "(39166, 10)"
      ]
     },
     "execution_count": 324,
     "metadata": {},
     "output_type": "execute_result"
    }
   ],
   "source": [
    "df_14_day_notification.shape"
   ]
  },
  {
   "cell_type": "code",
   "execution_count": 325,
   "id": "8deed79f",
   "metadata": {},
   "outputs": [
    {
     "data": {
      "text/plain": [
       "country             0\n",
       "country_code        0\n",
       "continent           0\n",
       "population          0\n",
       "indicator           0\n",
       "weekly_count        0\n",
       "year_week           0\n",
       "rate_14_day         0\n",
       "cumulative_count    0\n",
       "source              0\n",
       "dtype: int64"
      ]
     },
     "execution_count": 325,
     "metadata": {},
     "output_type": "execute_result"
    }
   ],
   "source": [
    "# test the data again\n",
    "df_14_day_notification.isnull().sum()"
   ]
  },
  {
   "cell_type": "code",
   "execution_count": 326,
   "id": "2d331dd3",
   "metadata": {},
   "outputs": [],
   "source": [
    "df_cases = df_14_day_notification[df_14_day_notification['indicator'] == 'cases']"
   ]
  },
  {
   "cell_type": "markdown",
   "id": "e1c97334",
   "metadata": {},
   "source": [
    "## COVID19 WORLD CASES"
   ]
  },
  {
   "cell_type": "code",
   "execution_count": 327,
   "id": "e0a26581",
   "metadata": {},
   "outputs": [
    {
     "data": {
      "text/plain": [
       "261809936"
      ]
     },
     "execution_count": 327,
     "metadata": {},
     "output_type": "execute_result"
    }
   ],
   "source": [
    "df_cases['weekly_count'].sum()"
   ]
  },
  {
   "cell_type": "markdown",
   "id": "71a62917",
   "metadata": {},
   "source": [
    "## COVID19 WORLD DEATHS"
   ]
  },
  {
   "cell_type": "code",
   "execution_count": 328,
   "id": "d48f1421",
   "metadata": {},
   "outputs": [],
   "source": [
    "df_deaths = df_14_day_notification[df_14_day_notification['indicator'] == 'deaths']"
   ]
  },
  {
   "cell_type": "code",
   "execution_count": 329,
   "id": "b0d71441",
   "metadata": {},
   "outputs": [],
   "source": [
    "df_deaths_per_continent = df.groupby(['continent', 'weekly_count']).agg('sum')"
   ]
  },
  {
   "cell_type": "code",
   "execution_count": 330,
   "id": "42e3c317",
   "metadata": {},
   "outputs": [
    {
     "data": {
      "text/html": [
       "<div>\n",
       "<style scoped>\n",
       "    .dataframe tbody tr th:only-of-type {\n",
       "        vertical-align: middle;\n",
       "    }\n",
       "\n",
       "    .dataframe tbody tr th {\n",
       "        vertical-align: top;\n",
       "    }\n",
       "\n",
       "    .dataframe thead th {\n",
       "        text-align: right;\n",
       "    }\n",
       "</style>\n",
       "<table border=\"1\" class=\"dataframe\">\n",
       "  <thead>\n",
       "    <tr style=\"text-align: right;\">\n",
       "      <th></th>\n",
       "      <th></th>\n",
       "      <th>population</th>\n",
       "      <th>rate_14_day</th>\n",
       "      <th>cumulative_count</th>\n",
       "    </tr>\n",
       "    <tr>\n",
       "      <th>continent</th>\n",
       "      <th>weekly_count</th>\n",
       "      <th></th>\n",
       "      <th></th>\n",
       "      <th></th>\n",
       "    </tr>\n",
       "  </thead>\n",
       "  <tbody>\n",
       "    <tr>\n",
       "      <th rowspan=\"5\" valign=\"top\">Africa</th>\n",
       "      <th>-148</th>\n",
       "      <td>12123198</td>\n",
       "      <td>-1.055827</td>\n",
       "      <td>191</td>\n",
       "    </tr>\n",
       "    <tr>\n",
       "      <th>-15</th>\n",
       "      <td>45741000</td>\n",
       "      <td>0.198946</td>\n",
       "      <td>212</td>\n",
       "    </tr>\n",
       "    <tr>\n",
       "      <th>0</th>\n",
       "      <td>37408081491</td>\n",
       "      <td>1489.512965</td>\n",
       "      <td>2247648</td>\n",
       "    </tr>\n",
       "    <tr>\n",
       "      <th>1</th>\n",
       "      <td>9161466379</td>\n",
       "      <td>744.409290</td>\n",
       "      <td>184563</td>\n",
       "    </tr>\n",
       "    <tr>\n",
       "      <th>2</th>\n",
       "      <td>6604827317</td>\n",
       "      <td>1113.604084</td>\n",
       "      <td>209812</td>\n",
       "    </tr>\n",
       "    <tr>\n",
       "      <th>...</th>\n",
       "      <th>...</th>\n",
       "      <td>...</td>\n",
       "      <td>...</td>\n",
       "      <td>...</td>\n",
       "    </tr>\n",
       "    <tr>\n",
       "      <th rowspan=\"5\" valign=\"top\">Oceania</th>\n",
       "      <th>18539</th>\n",
       "      <td>42409508</td>\n",
       "      <td>84.730999</td>\n",
       "      <td>256736</td>\n",
       "    </tr>\n",
       "    <tr>\n",
       "      <th>18826</th>\n",
       "      <td>42354311</td>\n",
       "      <td>81.299871</td>\n",
       "      <td>204271</td>\n",
       "    </tr>\n",
       "    <tr>\n",
       "      <th>18972</th>\n",
       "      <td>42409508</td>\n",
       "      <td>94.561342</td>\n",
       "      <td>296839</td>\n",
       "    </tr>\n",
       "    <tr>\n",
       "      <th>21131</th>\n",
       "      <td>42409508</td>\n",
       "      <td>93.540345</td>\n",
       "      <td>277867</td>\n",
       "    </tr>\n",
       "    <tr>\n",
       "      <th>21610</th>\n",
       "      <td>42409508</td>\n",
       "      <td>95.690806</td>\n",
       "      <td>318449</td>\n",
       "    </tr>\n",
       "  </tbody>\n",
       "</table>\n",
       "<p>12617 rows × 3 columns</p>\n",
       "</div>"
      ],
      "text/plain": [
       "                         population  rate_14_day  cumulative_count\n",
       "continent weekly_count                                            \n",
       "Africa    -148             12123198    -1.055827               191\n",
       "          -15              45741000     0.198946               212\n",
       "           0            37408081491  1489.512965           2247648\n",
       "           1             9161466379   744.409290            184563\n",
       "           2             6604827317  1113.604084            209812\n",
       "...                             ...          ...               ...\n",
       "Oceania    18539           42409508    84.730999            256736\n",
       "           18826           42354311    81.299871            204271\n",
       "           18972           42409508    94.561342            296839\n",
       "           21131           42409508    93.540345            277867\n",
       "           21610           42409508    95.690806            318449\n",
       "\n",
       "[12617 rows x 3 columns]"
      ]
     },
     "execution_count": 330,
     "metadata": {},
     "output_type": "execute_result"
    }
   ],
   "source": [
    "df_deaths_per_continent"
   ]
  },
  {
   "cell_type": "code",
   "execution_count": 331,
   "id": "ee0f8a61",
   "metadata": {},
   "outputs": [
    {
     "data": {
      "image/png": "[encoded data removed]",
      "text/plain": [
       "<Figure size 1080x504 with 1 Axes>"
      ]
     },
     "metadata": {
      "needs_background": "light"
     },
     "output_type": "display_data"
    }
   ],
   "source": [
    "df_deaths.plot(x = 'year_week', y = 'weekly_count', figsize = (15,7), title = 'Total deaths by Year week');"
   ]
  },
  {
   "cell_type": "code",
   "execution_count": null,
   "id": "7c8b43a9",
   "metadata": {},
   "outputs": [],
   "source": []
  }
 ],
 "metadata": {
  "kernelspec": {
   "display_name": "Python 3 (ipykernel)",
   "language": "python",
   "name": "python3"
  },
  "language_info": {
   "codemirror_mode": {
    "name": "ipython",
    "version": 3
   },
   "file_extension": ".py",
   "mimetype": "text/x-python",
   "name": "python",
   "nbconvert_exporter": "python",
   "pygments_lexer": "ipython3",
   "version": "3.9.7"
  }
 },
 "nbformat": 4,
 "nbformat_minor": 5
}
