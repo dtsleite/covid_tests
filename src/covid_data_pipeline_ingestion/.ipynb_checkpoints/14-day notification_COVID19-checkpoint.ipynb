{
 "cells": [
  {
   "cell_type": "code",
   "execution_count": 7,
   "id": "f21f5235",
   "metadata": {},
   "outputs": [],
   "source": [
    "import pandas as pd\n",
    "import numpy as np\n",
    "from isoweek import Week"
   ]
  },
  {
   "cell_type": "code",
   "execution_count": 13,
   "id": "f5a210a3",
   "metadata": {},
   "outputs": [],
   "source": [
    "# import data from CSV File\n",
    "df_14_day_notification = pd.read_csv('./data/14-day notification_COVID19_data.csv')"
   ]
  },
  {
   "cell_type": "code",
   "execution_count": null,
   "id": "4a1118ba",
   "metadata": {},
   "outputs": [],
   "source": [
    "def conter_yw_to_date(year_week):\n",
    "    return Week(2020, 10).monday()"
   ]
  },
  {
   "cell_type": "code",
   "execution_count": 36,
   "id": "21951826",
   "metadata": {},
   "outputs": [
    {
     "data": {
      "text/html": [
       "<div>\n",
       "<style scoped>\n",
       "    .dataframe tbody tr th:only-of-type {\n",
       "        vertical-align: middle;\n",
       "    }\n",
       "\n",
       "    .dataframe tbody tr th {\n",
       "        vertical-align: top;\n",
       "    }\n",
       "\n",
       "    .dataframe thead th {\n",
       "        text-align: right;\n",
       "    }\n",
       "</style>\n",
       "<table border=\"1\" class=\"dataframe\">\n",
       "  <thead>\n",
       "    <tr style=\"text-align: right;\">\n",
       "      <th></th>\n",
       "      <th>country</th>\n",
       "      <th>country_code</th>\n",
       "      <th>continent</th>\n",
       "      <th>population</th>\n",
       "      <th>indicator</th>\n",
       "      <th>weekly_count</th>\n",
       "      <th>year_week</th>\n",
       "      <th>rate_14_day</th>\n",
       "      <th>cumulative_count</th>\n",
       "      <th>source</th>\n",
       "    </tr>\n",
       "  </thead>\n",
       "  <tbody>\n",
       "    <tr>\n",
       "      <th>0</th>\n",
       "      <td>Afghanistan</td>\n",
       "      <td>AFG</td>\n",
       "      <td>Asia</td>\n",
       "      <td>38928341</td>\n",
       "      <td>cases</td>\n",
       "      <td>0</td>\n",
       "      <td>2020-01</td>\n",
       "      <td>NaN</td>\n",
       "      <td>0</td>\n",
       "      <td>Epidemic intelligence national data</td>\n",
       "    </tr>\n",
       "    <tr>\n",
       "      <th>1</th>\n",
       "      <td>Afghanistan</td>\n",
       "      <td>AFG</td>\n",
       "      <td>Asia</td>\n",
       "      <td>38928341</td>\n",
       "      <td>cases</td>\n",
       "      <td>0</td>\n",
       "      <td>2020-02</td>\n",
       "      <td>0.000000</td>\n",
       "      <td>0</td>\n",
       "      <td>Epidemic intelligence national data</td>\n",
       "    </tr>\n",
       "    <tr>\n",
       "      <th>2</th>\n",
       "      <td>Afghanistan</td>\n",
       "      <td>AFG</td>\n",
       "      <td>Asia</td>\n",
       "      <td>38928341</td>\n",
       "      <td>cases</td>\n",
       "      <td>0</td>\n",
       "      <td>2020-03</td>\n",
       "      <td>0.000000</td>\n",
       "      <td>0</td>\n",
       "      <td>Epidemic intelligence national data</td>\n",
       "    </tr>\n",
       "    <tr>\n",
       "      <th>3</th>\n",
       "      <td>Afghanistan</td>\n",
       "      <td>AFG</td>\n",
       "      <td>Asia</td>\n",
       "      <td>38928341</td>\n",
       "      <td>cases</td>\n",
       "      <td>0</td>\n",
       "      <td>2020-04</td>\n",
       "      <td>0.000000</td>\n",
       "      <td>0</td>\n",
       "      <td>Epidemic intelligence national data</td>\n",
       "    </tr>\n",
       "    <tr>\n",
       "      <th>4</th>\n",
       "      <td>Afghanistan</td>\n",
       "      <td>AFG</td>\n",
       "      <td>Asia</td>\n",
       "      <td>38928341</td>\n",
       "      <td>cases</td>\n",
       "      <td>0</td>\n",
       "      <td>2020-05</td>\n",
       "      <td>0.000000</td>\n",
       "      <td>0</td>\n",
       "      <td>Epidemic intelligence national data</td>\n",
       "    </tr>\n",
       "    <tr>\n",
       "      <th>...</th>\n",
       "      <td>...</td>\n",
       "      <td>...</td>\n",
       "      <td>...</td>\n",
       "      <td>...</td>\n",
       "      <td>...</td>\n",
       "      <td>...</td>\n",
       "      <td>...</td>\n",
       "      <td>...</td>\n",
       "      <td>...</td>\n",
       "      <td>...</td>\n",
       "    </tr>\n",
       "    <tr>\n",
       "      <th>40797</th>\n",
       "      <td>Zimbabwe</td>\n",
       "      <td>ZWE</td>\n",
       "      <td>Africa</td>\n",
       "      <td>14862927</td>\n",
       "      <td>deaths</td>\n",
       "      <td>9</td>\n",
       "      <td>2021-43</td>\n",
       "      <td>1.345630</td>\n",
       "      <td>4678</td>\n",
       "      <td>Epidemic intelligence national data</td>\n",
       "    </tr>\n",
       "    <tr>\n",
       "      <th>40798</th>\n",
       "      <td>Zimbabwe</td>\n",
       "      <td>ZWE</td>\n",
       "      <td>Africa</td>\n",
       "      <td>14862927</td>\n",
       "      <td>deaths</td>\n",
       "      <td>7</td>\n",
       "      <td>2021-44</td>\n",
       "      <td>1.076504</td>\n",
       "      <td>4685</td>\n",
       "      <td>Epidemic intelligence national data</td>\n",
       "    </tr>\n",
       "    <tr>\n",
       "      <th>40799</th>\n",
       "      <td>Zimbabwe</td>\n",
       "      <td>ZWE</td>\n",
       "      <td>Africa</td>\n",
       "      <td>14862927</td>\n",
       "      <td>deaths</td>\n",
       "      <td>12</td>\n",
       "      <td>2021-45</td>\n",
       "      <td>1.278348</td>\n",
       "      <td>4697</td>\n",
       "      <td>Epidemic intelligence national data</td>\n",
       "    </tr>\n",
       "    <tr>\n",
       "      <th>40800</th>\n",
       "      <td>Zimbabwe</td>\n",
       "      <td>ZWE</td>\n",
       "      <td>Africa</td>\n",
       "      <td>14862927</td>\n",
       "      <td>deaths</td>\n",
       "      <td>2</td>\n",
       "      <td>2021-46</td>\n",
       "      <td>0.941941</td>\n",
       "      <td>4699</td>\n",
       "      <td>Epidemic intelligence national data</td>\n",
       "    </tr>\n",
       "    <tr>\n",
       "      <th>40801</th>\n",
       "      <td>Zimbabwe</td>\n",
       "      <td>ZWE</td>\n",
       "      <td>Africa</td>\n",
       "      <td>14862927</td>\n",
       "      <td>deaths</td>\n",
       "      <td>6</td>\n",
       "      <td>2021-47</td>\n",
       "      <td>0.538252</td>\n",
       "      <td>4705</td>\n",
       "      <td>Epidemic intelligence national data</td>\n",
       "    </tr>\n",
       "  </tbody>\n",
       "</table>\n",
       "<p>40802 rows × 10 columns</p>\n",
       "</div>"
      ],
      "text/plain": [
       "           country country_code continent  population indicator  weekly_count  \\\n",
       "0      Afghanistan          AFG      Asia    38928341     cases             0   \n",
       "1      Afghanistan          AFG      Asia    38928341     cases             0   \n",
       "2      Afghanistan          AFG      Asia    38928341     cases             0   \n",
       "3      Afghanistan          AFG      Asia    38928341     cases             0   \n",
       "4      Afghanistan          AFG      Asia    38928341     cases             0   \n",
       "...            ...          ...       ...         ...       ...           ...   \n",
       "40797     Zimbabwe          ZWE    Africa    14862927    deaths             9   \n",
       "40798     Zimbabwe          ZWE    Africa    14862927    deaths             7   \n",
       "40799     Zimbabwe          ZWE    Africa    14862927    deaths            12   \n",
       "40800     Zimbabwe          ZWE    Africa    14862927    deaths             2   \n",
       "40801     Zimbabwe          ZWE    Africa    14862927    deaths             6   \n",
       "\n",
       "      year_week  rate_14_day  cumulative_count  \\\n",
       "0       2020-01          NaN                 0   \n",
       "1       2020-02     0.000000                 0   \n",
       "2       2020-03     0.000000                 0   \n",
       "3       2020-04     0.000000                 0   \n",
       "4       2020-05     0.000000                 0   \n",
       "...         ...          ...               ...   \n",
       "40797   2021-43     1.345630              4678   \n",
       "40798   2021-44     1.076504              4685   \n",
       "40799   2021-45     1.278348              4697   \n",
       "40800   2021-46     0.941941              4699   \n",
       "40801   2021-47     0.538252              4705   \n",
       "\n",
       "                                    source  \n",
       "0      Epidemic intelligence national data  \n",
       "1      Epidemic intelligence national data  \n",
       "2      Epidemic intelligence national data  \n",
       "3      Epidemic intelligence national data  \n",
       "4      Epidemic intelligence national data  \n",
       "...                                    ...  \n",
       "40797  Epidemic intelligence national data  \n",
       "40798  Epidemic intelligence national data  \n",
       "40799  Epidemic intelligence national data  \n",
       "40800  Epidemic intelligence national data  \n",
       "40801  Epidemic intelligence national data  \n",
       "\n",
       "[40802 rows x 10 columns]"
      ]
     },
     "execution_count": 36,
     "metadata": {},
     "output_type": "execute_result"
    }
   ],
   "source": [
    "df_14_day_notification"
   ]
  },
  {
   "cell_type": "code",
   "execution_count": 41,
   "id": "7e0b3c37",
   "metadata": {
    "scrolled": true
   },
   "outputs": [
    {
     "name": "stdout",
     "output_type": "stream",
     "text": [
      "<class 'pandas.core.frame.DataFrame'>\n",
      "RangeIndex: 40802 entries, 0 to 40801\n",
      "Data columns (total 10 columns):\n",
      " #   Column            Non-Null Count  Dtype  \n",
      "---  ------            --------------  -----  \n",
      " 0   country           40802 non-null  object \n",
      " 1   country_code      39602 non-null  object \n",
      " 2   continent         40802 non-null  object \n",
      " 3   population        40802 non-null  int64  \n",
      " 4   indicator         40802 non-null  object \n",
      " 5   weekly_count      40802 non-null  int64  \n",
      " 6   year_week         40802 non-null  object \n",
      " 7   rate_14_day       40354 non-null  float64\n",
      " 8   cumulative_count  40802 non-null  int64  \n",
      " 9   source            40802 non-null  object \n",
      "dtypes: float64(1), int64(3), object(6)\n",
      "memory usage: 3.1+ MB\n"
     ]
    }
   ],
   "source": [
    "# get some usefull information about data\n",
    "df_14_day_notification.info()"
   ]
  },
  {
   "cell_type": "code",
   "execution_count": 43,
   "id": "20a9c409",
   "metadata": {},
   "outputs": [
    {
     "data": {
      "text/plain": [
       "(40802, 10)"
      ]
     },
     "execution_count": 43,
     "metadata": {},
     "output_type": "execute_result"
    }
   ],
   "source": [
    "df_14_day_notification.shape"
   ]
  },
  {
   "cell_type": "code",
   "execution_count": 44,
   "id": "c48bfb01",
   "metadata": {},
   "outputs": [
    {
     "data": {
      "text/plain": [
       "country                0\n",
       "country_code        1200\n",
       "continent              0\n",
       "population             0\n",
       "indicator              0\n",
       "weekly_count           0\n",
       "year_week              0\n",
       "rate_14_day          448\n",
       "cumulative_count       0\n",
       "source                 0\n",
       "dtype: int64"
      ]
     },
     "execution_count": 44,
     "metadata": {},
     "output_type": "execute_result"
    }
   ],
   "source": [
    "# get null data\n",
    "df_14_day_notification.isnull().sum()"
   ]
  },
  {
   "cell_type": "code",
   "execution_count": 45,
   "id": "a0e37036",
   "metadata": {},
   "outputs": [],
   "source": [
    "# clear null data\n",
    "df_14_day_notification.dropna(inplace=True)"
   ]
  },
  {
   "cell_type": "code",
   "execution_count": 46,
   "id": "47b7ab10",
   "metadata": {},
   "outputs": [
    {
     "data": {
      "text/plain": [
       "(39166, 10)"
      ]
     },
     "execution_count": 46,
     "metadata": {},
     "output_type": "execute_result"
    }
   ],
   "source": [
    "df_14_day_notification.shape"
   ]
  },
  {
   "cell_type": "code",
   "execution_count": 49,
   "id": "fc378c68",
   "metadata": {},
   "outputs": [
    {
     "data": {
      "text/plain": [
       "country             0\n",
       "country_code        0\n",
       "continent           0\n",
       "population          0\n",
       "indicator           0\n",
       "weekly_count        0\n",
       "year_week           0\n",
       "rate_14_day         0\n",
       "cumulative_count    0\n",
       "source              0\n",
       "dtype: int64"
      ]
     },
     "execution_count": 49,
     "metadata": {},
     "output_type": "execute_result"
    }
   ],
   "source": [
    "# test the data again\n",
    "df_14_day_notification.isnull().sum()"
   ]
  },
  {
   "cell_type": "code",
   "execution_count": null,
   "id": "432eb16f",
   "metadata": {},
   "outputs": [],
   "source": []
  }
 ],
 "metadata": {
  "kernelspec": {
   "display_name": "Python 3 (ipykernel)",
   "language": "python",
   "name": "python3"
  },
  "language_info": {
   "codemirror_mode": {
    "name": "ipython",
    "version": 3
   },
   "file_extension": ".py",
   "mimetype": "text/x-python",
   "name": "python",
   "nbconvert_exporter": "python",
   "pygments_lexer": "ipython3",
   "version": "3.9.7"
  }
 },
 "nbformat": 4,
 "nbformat_minor": 5
}
